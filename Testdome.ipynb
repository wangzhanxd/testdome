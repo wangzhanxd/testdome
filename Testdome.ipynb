{
 "cells": [
  {
   "cell_type": "markdown",
   "metadata": {},
   "source": [
    "# merge names"
   ]
  },
  {
   "cell_type": "code",
   "execution_count": null,
   "metadata": {},
   "outputs": [],
   "source": [
    "#include <iostream>\n",
    "#include <vector>\n",
    "#include <set>\n",
    "std::vector<std::string> unique_names(const std::vector<std::string>& names1, const std::vector<std::string>& names2)\n",
    "{\n",
    "    \n",
    "    std::set<std::string> s;\n",
    "    for (auto iter = names1.cbegin();iter !=names1.cend();iter++)\n",
    "    {\n",
    "        s.insert(*iter);\n",
    "    }\n",
    "    for (auto iter = names2.cbegin();iter !=names2.cend();iter++)\n",
    "    {\n",
    "        s.insert(*iter);\n",
    "    }\n",
    "    \n",
    "    std::vector<std::string> result;\n",
    "    std::set<std::string>::iterator iter=s.begin();\n",
    "\n",
    "    for (auto iter = s.begin();iter !=s.end();iter++)\n",
    "    {\n",
    "        result.push_back(*iter);\n",
    "    }\n",
    "    return result;\n",
    "    \n",
    "}"
   ]
  },
  {
   "cell_type": "code",
   "execution_count": null,
   "metadata": {},
   "outputs": [],
   "source": [
    "/*\n",
    "int main()\n",
    "{\n",
    "    std::vector<std::string> names1 = {\"Ava\", \"Emma\", \"Olivia\"};\n",
    "    std::vector<std::string> names2 = {\"Olivia\", \"Sophia\", \"Emma\"};\n",
    "    \n",
    "    std::vector<std::string> result = unique_names(names1, names2);\n",
    "    for(auto element : result)\n",
    "    {\n",
    "        std::cout << element << ' '; // should print Ava Emma Olivia Sophia\n",
    "    }\n",
    "}*/\n",
    "std::vector<std::string> names1 = {\"Ava\", \"Emma\", \"Olivia\"};\n",
    "std::vector<std::string> names2 = {\"Olivia\", \"Sophia\", \"Emma\"};\n",
    "std::vector<std::string> result = unique_names(names1, names2);\n",
    "result"
   ]
  },
  {
   "cell_type": "markdown",
   "metadata": {},
   "source": [
    "# Quadratic Equation"
   ]
  },
  {
   "cell_type": "code",
   "execution_count": null,
   "metadata": {},
   "outputs": [],
   "source": [
    "#include <tuple>\n",
    "#include <stdexcept>\n",
    "#include <iostream>\n",
    "#include <string>\n",
    "#include <cmath>\n",
    "std::pair<double, double> findRoots(double a, double b, double c)\n",
    "{\n",
    "    double x1 = (-b+sqrt(b*b-4*a*c))/(2*a);\n",
    "    double x2 = (-b-sqrt(b*b-4*a*c))/(2*a);\n",
    "    std::pair<double,double>result(x1,x2);\n",
    "    return result;\n",
    "}\n",
    "/*\n",
    "#ifndef RunTests\n",
    "int main()\n",
    "{\n",
    "    std::pair<double,double> roots = findRoots(2, 10, 8);\n",
    "    std::cout << \"Roots: \" + std::to_string(roots.first) + \", \" + std::to_string(roots.second);\n",
    "}\n",
    "#endif\n",
    "*/"
   ]
  },
  {
   "cell_type": "code",
   "execution_count": null,
   "metadata": {},
   "outputs": [],
   "source": [
    "std::pair<double,double> roots = findRoots(2, 10, 8);\n",
    "std::cout << \"Roots: \" + std::to_string(roots.first) + \", \" + std::to_string(roots.second);"
   ]
  },
  {
   "cell_type": "markdown",
   "metadata": {},
   "source": [
    "# Pipeline"
   ]
  },
  {
   "cell_type": "code",
   "execution_count": 1,
   "metadata": {},
   "outputs": [],
   "source": [
    "#include <iostream>\n",
    "#include <functional>\n",
    "#include <vector>\n",
    "template<class T>\n",
    "std::function<T (T)> makePipeline(const std::vector<std::function<T (T)>>& funcs) {\n",
    "    return [&funcs] (const T& arg) {\n",
    "        T temp = arg;\n",
    "        for(int i =0;i<funcs.size();i++){\n",
    "            temp= funcs[i](temp);\n",
    "        }\n",
    "        return temp;\n",
    "    };\n",
    "}\n",
    "/*\n",
    "#ifndef RunTests\n",
    "int main()\n",
    "{\n",
    "    std::vector<std::function<int (int)>> functions;\n",
    "    functions.push_back([] (int x) -> int { return x * 3; });\n",
    "    functions.push_back([] (int x) -> int { return x + 1; });\n",
    "    functions.push_back([] (int x) -> int { return x / 2; });\n",
    "    \n",
    "    std::function<int (int)> func = makePipeline(functions);\n",
    "    std::cout << func(3); // should print 5\n",
    "}\n",
    "#endif\n",
    "*/"
   ]
  },
  {
   "cell_type": "code",
   "execution_count": 2,
   "metadata": {},
   "outputs": [
    {
     "name": "stdout",
     "output_type": "stream",
     "text": [
      "5"
     ]
    },
    {
     "data": {
      "text/plain": [
       "@0x7ff30c2b4b60"
      ]
     },
     "execution_count": 2,
     "metadata": {},
     "output_type": "execute_result"
    }
   ],
   "source": [
    "#include <iostream>\n",
    "#include <functional>\n",
    "#include <vector>\n",
    "#include <numeric>\n",
    "std::vector<std::function<int (int)>> functions;\n",
    "functions.push_back([] (int x) -> int { return x * 3; });\n",
    "functions.push_back([] (int x) -> int { return x + 1; });\n",
    "functions.push_back([] (int x) -> int { return x / 2; });\n",
    "std::function<int (int)> func = makePipeline(functions);\n",
    "std::cout << func(3); // should print 5"
   ]
  },
  {
   "cell_type": "markdown",
   "metadata": {},
   "source": [
    "# User Input"
   ]
  },
  {
   "cell_type": "code",
   "execution_count": null,
   "metadata": {},
   "outputs": [],
   "source": [
    "#include <iostream>\n",
    "#include <string>\n",
    "#include <vector>\n",
    "class TextInput\n",
    "{\n",
    "public:\n",
    "    std::vector<char> data;\n",
    "//虚函数在子类照片中重新加载\n",
    "virtual void add(char c) {\n",
    "        data.push_back(c);\n",
    "    }\n",
    "\n",
    "std::string getValue() {\n",
    "    std::string res;\n",
    "    for (int i = 0;i<data.size();i++){\n",
    "      res+=data[i];\n",
    "    }\n",
    "    return res; }\n",
    "};\n",
    "\n",
    "class NumericInput : public TextInput {\n",
    " public:\n",
    "    void add(char c) {\n",
    "        if(isdigit(c) != 0)\n",
    "            data.push_back(c);\n",
    "    }\n",
    "};\n",
    "\n",
    "\n",
    "/*\n",
    "#ifndef RunTests\n",
    "int main()\n",
    "{\n",
    "    TextInput* input = new NumericInput();\n",
    "    input->add('1');\n",
    "    input->add('a');\n",
    "    input->add('0');\n",
    "    std::cout << input->getValue();\n",
    "}\n",
    "#endif\n",
    "*/"
   ]
  },
  {
   "cell_type": "code",
   "execution_count": null,
   "metadata": {},
   "outputs": [],
   "source": [
    "TextInput* input = new NumericInput();\n",
    "input->add('1');\n",
    "input->add('a');\n",
    "input->add('0');\n",
    "std::cout << input->getValue();"
   ]
  },
  {
   "cell_type": "markdown",
   "metadata": {},
   "source": [
    "### example"
   ]
  },
  {
   "cell_type": "code",
   "execution_count": null,
   "metadata": {},
   "outputs": [],
   "source": [
    "#include <iostream>\n",
    "#include <stdlib.h>\n",
    "#include <string.h>\n",
    "using namespace std;\n",
    "\n",
    "class Base {\n",
    "private:\n",
    "virtual void display() { cout<<\"Base display()\"<<endl; }\n",
    "void say(){ cout<<\"Base say()\"<<endl; }\n",
    "public:\n",
    "void exec(){ display(); say(); }\n",
    "void f1(string a) { cout<<\"Base f1(string)\"<<endl; }\n",
    "void f1(int a) { cout<<\"Base f1(int)\"<<endl; } //overload，两个f1函数在Base类的内部被重载\n",
    "};\n",
    "\n",
    "class DeriveA:public Base{\n",
    "public:\n",
    "void display() { cout<<\"DeriveA display()\"<<endl; } //override，基类中display为虚函数，故此处为重写\n",
    "void f1(int a,int b) { cout<<\"DeriveA f1(int,int)\"<<endl; } //redefining，f1函数在Base类中不为虚函数，故此处为重定义\n",
    "void say() { cout<<\"DeriveA say()\"<<endl; } //redefining，同上\n",
    "};\n",
    "\n",
    "\n",
    "class DeriveB:public Base\n",
    "{\n",
    "public:\n",
    "void f1(int a) { cout<<\"DeriveB f1(int)\"<<endl; } //redefining，重定义\n",
    "};"
   ]
  },
  {
   "cell_type": "code",
   "execution_count": null,
   "metadata": {},
   "outputs": [],
   "source": [
    "DeriveA a;\n",
    "Base *b=&a;\n",
    "b->exec(); //display():version of DeriveA call(polymorphism) //say():version of Base called(allways )\n",
    "\n",
    "//b里边的函数display被A类覆盖，但是say还是自己的。"
   ]
  },
  {
   "cell_type": "code",
   "execution_count": null,
   "metadata": {},
   "outputs": [],
   "source": [
    "a.exec(); //same result as last statement   "
   ]
  },
  {
   "cell_type": "code",
   "execution_count": null,
   "metadata": {},
   "outputs": [],
   "source": [
    "a.say();"
   ]
  },
  {
   "cell_type": "code",
   "execution_count": null,
   "metadata": {},
   "outputs": [],
   "source": [
    "DeriveB c;\n",
    "c.f1(1); //version of DeriveB called"
   ]
  },
  {
   "cell_type": "markdown",
   "metadata": {},
   "source": [
    "# two sum"
   ]
  },
  {
   "cell_type": "code",
   "execution_count": null,
   "metadata": {},
   "outputs": [],
   "source": [
    "//时间复杂度o(n^2) time limit exceeded\n",
    "#include <stdexcept>\n",
    "#include <iostream>\n",
    "#include <vector>\n",
    "#include <utility>\n",
    "std::pair<int, int> findTwoSum(const std::vector<int>& list, int sum)\n",
    "{\n",
    "    for(int i = 0;i<list.size();i++){\n",
    "        int target = sum - list[i];\n",
    "            for(int j = i+1;j<list.size();j++){\n",
    "                if(target == list[j]){\n",
    "                    std::pair<int,int>res(i,j);\n",
    "                    return res;\n",
    "                }\n",
    "            }\n",
    "    }\n",
    "    std::pair<int,int>res(-1,-1);\n",
    "    return res;\n",
    "}"
   ]
  },
  {
   "cell_type": "code",
   "execution_count": null,
   "metadata": {},
   "outputs": [],
   "source": [
    "//使用map 时间复杂度是o(n) 空间复杂度o(n)\n",
    "//先排序，再查找，时间复杂度是o(nlogn)\n",
    "#include <stdexcept>\n",
    "#include <iostream>\n",
    "#include <vector>\n",
    "#include <utility>\n",
    "#include <map>\n",
    "std::pair<int, int> findTwoSum(const std::vector<int>& list, int sum)\n",
    "{\n",
    "    \n",
    "    std::map<int, int> hashMap;\n",
    "    std::pair<int,int> res(-1,-1);\n",
    "    for (int i = 0; i < list.size();i++){\n",
    "        hashMap[list[i]] = i;\n",
    "    }\n",
    "    for(int i = 0;i< list.size();i++){\n",
    "        int target = sum - list[i];\n",
    "        std::map<int,int>::iterator iter = hashMap.find(target);\n",
    "        if (iter != hashMap.end() && iter->second!=i){\n",
    "            res.first = i;\n",
    "            res.second = iter->second;\n",
    "            break;\n",
    "        }\n",
    "    }\n",
    "    return res;\n",
    "    \n",
    "}"
   ]
  },
  {
   "cell_type": "code",
   "execution_count": null,
   "metadata": {},
   "outputs": [],
   "source": [
    "using namespace std;\n",
    "vector<int> list = {3, 1, 5, 7, 5, 9};\n",
    "pair<int, int> indices = findTwoSum(list, 10);\n",
    "cout << indices.first << '\\n' << indices.second;"
   ]
  },
  {
   "cell_type": "markdown",
   "metadata": {},
   "source": [
    "# Binary Search Tree"
   ]
  },
  {
   "cell_type": "code",
   "execution_count": null,
   "metadata": {},
   "outputs": [],
   "source": [
    "#include <stdexcept>\n",
    "#include <string>\n",
    "#include <iostream>\n",
    "#include <list>\n",
    "\n",
    "class Node\n",
    "{\n",
    "public:\n",
    "    Node(int value, Node* left, Node* right)\n",
    "    {\n",
    "        this->value = value;\n",
    "        this->left = left;\n",
    "        this->right = right;\n",
    "    }\n",
    "\n",
    "    int getValue() const\n",
    "    {\n",
    "        return value;\n",
    "    }\n",
    "\n",
    "    Node* getLeft() const\n",
    "    {\n",
    "        return left;\n",
    "    }\n",
    "\n",
    "    Node* getRight() const\n",
    "    {\n",
    "        return right;\n",
    "    }\n",
    "\n",
    "private:\n",
    "    int value;\n",
    "    Node* left;\n",
    "    Node* right;\n",
    "};\n",
    "\n",
    "class BinarySearchTree\n",
    "{\n",
    "public:\n",
    "    static bool contains(const Node& root, int value)\n",
    "    {\n",
    "        if(root.getValue()==value)\n",
    "            return true;\n",
    "        else if(root.getValue() < value){\n",
    "            if(root.getRight()==NULL)//记得判断 容易出错\n",
    "                return false;\n",
    "            else\n",
    "                return contains(*root.getRight(),value);}\n",
    "        else{\n",
    "            if(root.getLeft()==NULL)\n",
    "                return false;\n",
    "            else\n",
    "                return contains(*root.getLeft(),value);}\n",
    "    }\n",
    "};"
   ]
  },
  {
   "cell_type": "code",
   "execution_count": null,
   "metadata": {},
   "outputs": [],
   "source": [
    "Node n4(4, NULL, NULL);\n",
    "Node n5(8, NULL, NULL);\n",
    "Node n6(10, NULL, NULL);\n",
    "Node n7(16, NULL, NULL);\n",
    "Node n2(6, &n4, &n5);\n",
    "Node n3(15, &n6, &n7);\n",
    "Node n1(9, &n2, &n3);"
   ]
  },
  {
   "cell_type": "code",
   "execution_count": null,
   "metadata": {},
   "outputs": [],
   "source": [
    "std::cout << BinarySearchTree::contains(n1, 16);"
   ]
  },
  {
   "cell_type": "markdown",
   "metadata": {},
   "source": [
    "# Song"
   ]
  },
  {
   "cell_type": "code",
   "execution_count": null,
   "metadata": {},
   "outputs": [],
   "source": [
    "#include <stdexcept>\n",
    "#include <iostream>\n",
    "\n",
    "class Song\n",
    "{\n",
    "public:\n",
    "    Song(std::string name): name(name), nextSong(NULL) {}\n",
    "    \n",
    "    void next(Song* song)\n",
    "    {\n",
    "        this->nextSong = song;\n",
    "    }\n",
    "\n",
    "    bool isRepeatingPlaylist()\n",
    "    {\n",
    "        Song* slow = this;\n",
    "        Song* fast = this;\n",
    "        while(fast && fast->nextSong){\n",
    "            slow = slow->nextSong;\n",
    "            fast = fast->nextSong->nextSong;\n",
    "            if(fast==NULL)\n",
    "                return false;\n",
    "            if(slow->name == fast->name)\n",
    "                return true;\n",
    "        }\n",
    "        return false;\n",
    "    }\n",
    "\n",
    "private:\n",
    "    const std::string name;\n",
    "    Song* nextSong;\n",
    "};"
   ]
  },
  {
   "cell_type": "code",
   "execution_count": null,
   "metadata": {},
   "outputs": [],
   "source": [
    "Song* first = new Song(\"Hello\");\n",
    "Song* second = new Song(\"Eye of the tiger\");\n",
    "Song* third = new Song(\"world\");\n",
    "first->next(second);\n",
    "second->next(third);\n",
    "third->next(NULL);\n",
    "//third->next(first);\n",
    "//std::cout << std::boolalpha << first->isRepeatingPlaylist();"
   ]
  },
  {
   "cell_type": "markdown",
   "metadata": {},
   "source": [
    "# Sorted Search\n",
    "### 二分查找"
   ]
  },
  {
   "cell_type": "code",
   "execution_count": null,
   "metadata": {},
   "outputs": [],
   "source": [
    "#include <vector>\n",
    "#include <stdexcept>\n",
    "#include <iostream>\n",
    "\n",
    "int countNumbers(const std::vector<int>& sortedVector, int lessThan)\n",
    "{\n",
    "    int l = 0;\n",
    "    int r = sortedVector.size()-1;\n",
    "    if (r == -1)\n",
    "        return 0;\n",
    "    if (lessThan>sortedVector[r])\n",
    "        return r+1;\n",
    "    if (lessThan<sortedVector[0])\n",
    "        return 0;\n",
    "    while(l<=r){\n",
    "        //std::cout<<l<<std::endl;\n",
    "        //std::cout<<r<<std::endl;\n",
    "        //mid的含义是最大小于lessThan数的索引 \n",
    "        //明确mid的含义，才不会造成边界错误\n",
    "        int mid = (l+r)/2;\n",
    "        if(sortedVector[mid+1]>=lessThan && sortedVector[mid]<lessThan)\n",
    "            return mid+1;\n",
    "        else if(sortedVector[mid+1]>=lessThan)\n",
    "            r = mid-1;\n",
    "        else\n",
    "            l = mid+1;\n",
    "    }\n",
    "    return 0;\n",
    "}"
   ]
  },
  {
   "cell_type": "code",
   "execution_count": null,
   "metadata": {},
   "outputs": [],
   "source": [
    "#include <vector>\n",
    "#include <stdexcept>\n",
    "#include <iostream>\n",
    "int countNumbers1(const std::vector<int>& sortedVector, int lessThan)\n",
    "    {\n",
    "        int lower, upper, middle;\n",
    "\n",
    "        lower = 0;\n",
    "        upper = sortedVector.size();\n",
    "\n",
    "        // do a binary search\n",
    "        while(lower < upper)\n",
    "        {\n",
    "            middle = (lower + upper) / 2;\n",
    "\n",
    "            if (sortedVector[middle] < lessThan)\n",
    "            {\n",
    "                lower = middle + 1;\n",
    "            }\n",
    "            else\n",
    "            {\n",
    "                upper = middle;\n",
    "            }\n",
    "        } \n",
    "\n",
    "        return lower;\n",
    "        //throw std::logic_error(\"Waiting to be implemented\");\n",
    "    }"
   ]
  },
  {
   "cell_type": "code",
   "execution_count": null,
   "metadata": {},
   "outputs": [],
   "source": [
    "std::vector<int> v2 {3,4,6,7,9,10};"
   ]
  },
  {
   "cell_type": "code",
   "execution_count": null,
   "metadata": {},
   "outputs": [],
   "source": [
    "or(int i = -10;i<10;i++){\n",
    "int t1 = countNumbers(v2,i);\n",
    "int t2 = countNumbers1(v2\n",
    "if(t1 != t2)\n",
    "    std::cout<<i<<std::endl;\n",
    "}"
   ]
  },
  {
   "cell_type": "markdown",
   "metadata": {},
   "source": [
    "# Train Composition\n",
    "### 使用了双链表 实际上使用Vector也是够的"
   ]
  },
  {
   "cell_type": "code",
   "execution_count": null,
   "metadata": {},
   "outputs": [],
   "source": [
    "#include <stdexcept>\n",
    "#include <iostream>\n",
    "#include <list>\n",
    "\n",
    "class TrainComposition\n",
    "{\n",
    "public:\n",
    "    std::list<int> linklist;\n",
    "    void attachWagonFromLeft(int wagonId)\n",
    "    {\n",
    "        linklist.push_front(wagonId);\n",
    "    }\n",
    "\n",
    "    void attachWagonFromRight(int wagonId)\n",
    "    {\n",
    "        linklist.push_back(wagonId);\n",
    "    }\n",
    "\n",
    "    int detachWagonFromLeft()\n",
    "    {\n",
    "        int front = linklist.front();\n",
    "        linklist.pop_front();\n",
    "        return front;\n",
    "    }\n",
    "\n",
    "    int detachWagonFromRight()\n",
    "    {\n",
    "        int back = linklist.back();\n",
    "        linklist.pop_back();\n",
    "        return back;\n",
    "    }\n",
    "};"
   ]
  },
  {
   "cell_type": "code",
   "execution_count": null,
   "metadata": {},
   "outputs": [],
   "source": [
    "TrainComposition train;\n",
    "train.attachWagonFromLeft(7);\n",
    "train.attachWagonFromLeft(13);\n",
    "std::cout << train.detachWagonFromRight() << \"\\n\"; // 7 \n",
    "std::cout << train.detachWagonFromLeft(); // 13"
   ]
  },
  {
   "cell_type": "markdown",
   "metadata": {},
   "source": [
    "# Multiple Choice Test\n",
    "### 将静态数组array 替换成vector即可解决问题"
   ]
  },
  {
   "cell_type": "code",
   "execution_count": null,
   "metadata": {},
   "outputs": [],
   "source": [
    "/*\n",
    "#include <iostream>\n",
    "#include <string>\n",
    "\n",
    "class MultipleChoiceTest\n",
    "{\n",
    "public:\n",
    "    MultipleChoiceTest(int questionsCount)\n",
    "    {\n",
    "        this->questionsCount = questionsCount;\n",
    "        answers = new int[questionsCount];\n",
    "        for (int i = 0; i < questionsCount; i++)\n",
    "        {\n",
    "            answers[i] = -1;\n",
    "        }\n",
    "    }\n",
    "\n",
    "    void setAnswer(int questionIndex, int answer)\n",
    "    {\n",
    "        answers[questionIndex] = answer;\n",
    "    }\n",
    "\n",
    "    int getAnswer(int questionIndex) const\n",
    "    {\n",
    "        return answers[questionIndex];\n",
    "    }\n",
    "\n",
    "protected:\n",
    "    int questionsCount;\n",
    "\n",
    "private:\n",
    "    int* answers;\n",
    "};\n",
    "\n",
    "class TimedMultipleChoiceTest : public MultipleChoiceTest\n",
    "{\n",
    "public:\n",
    "    TimedMultipleChoiceTest(int questionsCount)\n",
    "        : MultipleChoiceTest(questionsCount)\n",
    "    {\n",
    "        times = new int[questionsCount];\n",
    "        for (int i = 0; i < questionsCount; i++)\n",
    "        {\n",
    "            times[i] = 0;\n",
    "        }\n",
    "    }\n",
    "\n",
    "    void setTime(int questionIndex, int time)\n",
    "    {\n",
    "        times[questionIndex] = time;\n",
    "    }\n",
    "\n",
    "    int getTime(int questionIndex) const\n",
    "    {\n",
    "        return times[questionIndex];\n",
    "    }\n",
    "\n",
    "private:\n",
    "    int* times;\n",
    "};\n",
    "*/"
   ]
  },
  {
   "cell_type": "code",
   "execution_count": null,
   "metadata": {},
   "outputs": [],
   "source": [
    "#include <iostream>\n",
    "#include <string>\n",
    "\n",
    "class MultipleChoiceTest\n",
    "{\n",
    "public:\n",
    "    std::vector<int> answers;\n",
    "    MultipleChoiceTest(int questionsCount)\n",
    "    {\n",
    "        this->questionsCount = questionsCount;\n",
    "    }\n",
    "\n",
    "    void setAnswer(int questionIndex, int answer)\n",
    "    {\n",
    "        answers.push_back(answer);\n",
    "    }\n",
    "\n",
    "    int getAnswer(int questionIndex) const\n",
    "    {\n",
    "        return answers[questionIndex];\n",
    "    }\n",
    "\n",
    "protected:\n",
    "    int questionsCount;\n",
    "\n",
    "//private:\n",
    "//    int* answers;\n",
    "};\n",
    "\n",
    "class TimedMultipleChoiceTest : public MultipleChoiceTest\n",
    "{\n",
    "public:\n",
    "    std::vector<int> times;\n",
    "    TimedMultipleChoiceTest(int questionsCount)\n",
    "        : MultipleChoiceTest(questionsCount)\n",
    "    {\n",
    "    ;\n",
    "    }\n",
    "\n",
    "    void setTime(int questionIndex, int time)\n",
    "    {\n",
    "        times.push_back(time);\n",
    "    }\n",
    "\n",
    "    int getTime(int questionIndex) const\n",
    "    {\n",
    "        return times[questionIndex];\n",
    "    }\n",
    "\n",
    "//private:\n",
    "//    int* times;\n",
    "};"
   ]
  },
  {
   "cell_type": "code",
   "execution_count": null,
   "metadata": {},
   "outputs": [],
   "source": [
    "void executeTest()\n",
    "{\n",
    "    TimedMultipleChoiceTest test(5);\n",
    "    for (int i = 0; i < 5; i++)\n",
    "    {\n",
    "        test.setAnswer(i, i);\n",
    "    }\n",
    "\n",
    "    for (int i = 0; i < 5; i++)\n",
    "    {\n",
    "        std::cout << \"Question \" << i + 1 << \", correct answer: \" << test.getAnswer(i) << \"\\n\";\n",
    "    }\n",
    "}\n",
    "\n",
    "\n",
    "for (int i = 0; i < 3; i++)\n",
    "{\n",
    "    std::cout << \"Test: \" << i + 1 << \"\\n\";\n",
    "    executeTest();\n",
    "}\n"
   ]
  }
 ],
 "metadata": {
  "kernelspec": {
   "display_name": "C++17",
   "language": "C++17",
   "name": "xcpp17"
  },
  "language_info": {
   "codemirror_mode": "text/x-c++src",
   "file_extension": ".cpp",
   "mimetype": "text/x-c++src",
   "name": "c++",
   "version": "-std=c++17"
  }
 },
 "nbformat": 4,
 "nbformat_minor": 4
}
